{
 "cells": [
  {
   "cell_type": "code",
   "execution_count": 1,
   "id": "b82214b0-7cb4-4e89-9967-2c52aa6bc34d",
   "metadata": {},
   "outputs": [
    {
     "name": "stdout",
     "output_type": "stream",
     "text": [
      "Hello from Jupyter Lab!\n"
     ]
    }
   ],
   "source": [
    "print(\"Hello from Jupyter Lab!\")"
   ]
  },
  {
   "cell_type": "code",
   "execution_count": null,
   "id": "e77fcf74-3227-444b-b44c-b1997252a861",
   "metadata": {},
   "outputs": [],
   "source": []
  }
 ],
 "metadata": {
  "kernelspec": {
   "display_name": "Python 3 (ipykernel)",
   "language": "python",
   "name": "python3"
  },
  "language_info": {
   "codemirror_mode": {
    "name": "ipython",
    "version": 3
   },
   "file_extension": ".py",
   "mimetype": "text/x-python",
   "name": "python",
   "nbconvert_exporter": "python",
   "pygments_lexer": "ipython3",
   "version": "3.12.1"
  }
 },
 "nbformat": 4,
 "nbformat_minor": 5
}
